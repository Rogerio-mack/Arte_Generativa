{
  "nbformat": 4,
  "nbformat_minor": 0,
  "metadata": {
    "colab": {
      "provenance": [],
      "collapsed_sections": [],
      "include_colab_link": true
    },
    "kernelspec": {
      "name": "python3",
      "display_name": "Python 3"
    },
    "language_info": {
      "name": "python"
    },
    "gpuClass": "standard"
  },
  "cells": [
    {
      "cell_type": "markdown",
      "metadata": {
        "id": "view-in-github",
        "colab_type": "text"
      },
      "source": [
        "<a href=\"https://colab.research.google.com/github/Rogerio-mack/Arte_Generativa/blob/main/Generative_AI.ipynb\" target=\"_parent\"><img src=\"https://colab.research.google.com/assets/colab-badge.svg\" alt=\"Open In Colab\"/></a>"
      ]
    },
    {
      "cell_type": "markdown",
      "metadata": {
        "id": "gglUriLmo1sR"
      },
      "source": [
        "<head>\n",
        "  <meta name=\"author\" content=\"Rogério de Oliveira\">\n",
        "  <meta institution=\"author\" content=\"Universidade Presbiteriana Mackenzie\">\n",
        "</head>\n",
        "\n",
        "<img src=\"http://meusite.mackenzie.br/rogerio/mackenzie_logo/UPM.2_horizontal_vermelho.jpg\" width=300, align=\"right\"> \n",
        "<!-- <h1 align=left><font size = 6, style=\"color:rgb(200,0,0)\"> optional title </font></h1> -->"
      ]
    },
    {
      "cell_type": "markdown",
      "source": [
        "# **Aprenda sobre IA Generativa e Experimente sem Programação**  \n",
        "\n",
        "A arte generativa pode ser feita de várias formas sem a necessidade de IA. Por exemplo, desenhar curvas e superfícies, ou gerar sons empregando o computador e funções matemáticas, pode produzir resultados bastante artísticos. Entretanto, mais recentemente, a IA Generativa vem ganhando um espaço cada vez maior para a produção artística. Neste notebook você poderá aprender sobre IA Generativa e ter uma experiência com aplicativos online.\n",
        "\n",
        "*   Aprenda o que é IA Generativa \n",
        "*   Entenda o seu papel na produção artística\n",
        "*   Acesse e tenha uma experiência de uso da IA Generativa sem precisar programar \n",
        "\n",
        "<br> \n",
        "\n",
        "> **Para contabilizar horas complementares com essa atividade responda o questionário depois de ler o texto.**\n",
        "\n",
        "\n",
        "\n",
        "<br>\n",
        "\n",
        "<small> \n",
        "rogerio.oliveira@mackenzie.br\n",
        "\n",
        "---\n"
      ],
      "metadata": {
        "id": "pxdXj6yrdOyb"
      }
    },
    {
      "cell_type": "markdown",
      "source": [
        "# Leia e Aprenda sobre IA Generativa\n",
        "\n",
        "Acesse o site abaixo [aqui](https://www.sequoiacap.com/article/generative-ai-a-creative-new-world/) e entenda mais sobre o mundo da IA \n",
        "Generativa:\n",
        "\n",
        "<br>\n",
        "\n",
        "* *Será que os computadores fazem arte?*\n",
        "\n",
        "* *O que levou ao uso da IA nas artes?*\n",
        "\n",
        "* *Que tipo de produções podemos obter com a IA generativa?* \n",
        "\n",
        "* *Existe um campo útil para a produção de arte com IA, ou seria apenas um entretenimento?* \n",
        "\n",
        "* *A IA poderia gerar arte autônoma, sem a participação do ser humano?* \n",
        "\n",
        "* *Qual o futuro da IA Generativa?*\n",
        "\n",
        "<br>\n",
        "\n",
        "Depois de ler o texto responda ao [Questionário](https://forms.gle/RTrCXQVFZmX3eYNJA).\n",
        "\n",
        "<br>\n",
        "\n",
        "---\n",
        "\n",
        "### **ATENÇÃO: O texto artigo abaixo foi em parte produzido com o GPT-3, um sistema de IA, em uma cocriação humano-computador e as imagens geradas com Midjourney, sistema de IA para imagens. É um belo exemplo do que a arte generativa pode produzir.**\n",
        "\n",
        "<br>\n",
        "\n",
        "O texto encontra-se em Inglês, se precisar, clique com o botão direito do mouse na página e em **traduzir**, o Google Translator é mais uma ferramenta de IA que você já usa!\n"
      ],
      "metadata": {
        "id": "0STf0inDB3oN"
      }
    },
    {
      "cell_type": "code",
      "source": [
        "#@markdown\n",
        "from IPython.display import IFrame\n",
        "IFrame(\"https://www.sequoiacap.com/article/generative-ai-a-creative-new-world/\", 800,500)"
      ],
      "metadata": {
        "colab": {
          "base_uri": "https://localhost:8080/",
          "height": 521
        },
        "cellView": "form",
        "id": "drItGDQpZYFw",
        "outputId": "58cc2d97-020d-446f-f39c-397bd7cad127"
      },
      "execution_count": null,
      "outputs": [
        {
          "output_type": "execute_result",
          "data": {
            "text/plain": [
              "<IPython.lib.display.IFrame at 0x7f33d38d4310>"
            ],
            "text/html": [
              "\n",
              "        <iframe\n",
              "            width=\"800\"\n",
              "            height=\"500\"\n",
              "            src=\"https://www.sequoiacap.com/article/generative-ai-a-creative-new-world/\"\n",
              "            frameborder=\"0\"\n",
              "            allowfullscreen\n",
              "        ></iframe>\n",
              "        "
            ]
          },
          "metadata": {},
          "execution_count": 1
        }
      ]
    },
    {
      "cell_type": "markdown",
      "source": [
        "# Experimente \n",
        "\n",
        "Tenha aqui uma experiência com ferramentas de IA generativa para produção artística. \n",
        "\n"
      ],
      "metadata": {
        "id": "F3KAfMEVEw-P"
      }
    },
    {
      "cell_type": "markdown",
      "source": [
        "## Text To Image \n",
        "\n",
        "Este [link](https://style-transfer.glitch.me/) é uma versão web que emprega o `magenta.js`, um sistema de IA em deep learning, para fazer transferência de estilo de imagens. Se quiser saber mais sobre isso faça a atividade de transferência de estilos que emprega essa mesma biblioteca em `Python`. \n",
        "\n"
      ],
      "metadata": {
        "id": "b0FWYdqBLKuZ"
      }
    },
    {
      "cell_type": "markdown",
      "metadata": {
        "id": "3Hq6QDeELzmu"
      },
      "source": [
        "<img src=\"http://meusite.mackenzie.br/rogerio/painters/nightcafe_both.png\" width=550, align=\"center\"> \n",
        "\n",
        "\n",
        "\n"
      ]
    },
    {
      "cell_type": "markdown",
      "source": [
        "Imagens produzidas pelo sistema de IA NightCafé respectivamente para os textos:\n",
        "\n",
        "> **My cat flight to the moon!**\n",
        "\n",
        "> **I like climb, read books, art movies and math!**\n"
      ],
      "metadata": {
        "id": "9QPYMQa4NV-d"
      }
    },
    {
      "cell_type": "markdown",
      "source": [
        "## Transferência de Estilos\n",
        "\n",
        "Este [link](https://style-transfer.glitch.me/) é uma versão web que emprega o `magenta.js`, um sistema de IA em deep learning, para fazer transferência de estilo de imagens. Se quiser saber mais sobre isso faça a atividade de transferência de estilos que emprega essa mesma biblioteca em `Python`. \n",
        "\n"
      ],
      "metadata": {
        "id": "r03Nw_72OHAz"
      }
    },
    {
      "cell_type": "markdown",
      "metadata": {
        "id": "kOkORKBtOHA0"
      },
      "source": [
        "<img src=\"http://meusite.mackenzie.br/rogerio/painters/beatles.jfif\" width=200, align=\"left\"> \n",
        "<br>\n",
        "<img src=\"http://meusite.mackenzie.br/rogerio/painters/Monet.jpg\" width=160, align=\"left\"> \n",
        "<br>\n",
        "<img src=\"http://meusite.mackenzie.br/rogerio/painters/beatles.png\" width=200, align=\"left\"> \n",
        "<br>\n",
        "\n",
        "\n"
      ]
    },
    {
      "cell_type": "markdown",
      "source": [
        "<b>Famosa capa dos Beatles com aplicação do estilo do pintor Monet com o software Magenta."
      ],
      "metadata": {
        "id": "ceyEXi2rOHA0"
      }
    }
  ]
}